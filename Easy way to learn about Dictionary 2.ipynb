{
 "cells": [
  {
   "cell_type": "code",
   "execution_count": 1,
   "id": "44e41571",
   "metadata": {},
   "outputs": [],
   "source": [
    "#A dictionary which includes, student name, student ID number, age and grade.\n",
    "\n",
    "students ={\n",
    "    \"Alice\":[\"ID0001\",26, \"A\"], \n",
    "    \"Bob\":[\"ID0003\",27, \"B\"], \n",
    "    \"Claire\":[\"ID0004\",17, \"C\"], \n",
    "    \"Dan\":[\"ID0004\",21, \"D\"], \n",
    "    \"Emma\":[\"ID0005\", 22, \"E\"]\n",
    "    }"
   ]
  },
  {
   "cell_type": "code",
   "execution_count": 2,
   "id": "5fb4b97c",
   "metadata": {},
   "outputs": [
    {
     "name": "stdout",
     "output_type": "stream",
     "text": [
      "['ID0004', 17, 'C']\n"
     ]
    }
   ],
   "source": [
    "#Display Claire's data only: \n",
    "print(students[\"Claire\"])"
   ]
  },
  {
   "cell_type": "code",
   "execution_count": 3,
   "id": "b5ddcd02",
   "metadata": {},
   "outputs": [
    {
     "name": "stdout",
     "output_type": "stream",
     "text": [
      "ID0004\n"
     ]
    }
   ],
   "source": [
    "#This correctly displays Claire's student ID, age and grade. \n",
    "#What if only one piece of data was required such as student ID? Simply add an index as below\n",
    "print(students[\"Claire\"][0])"
   ]
  },
  {
   "cell_type": "code",
   "execution_count": 4,
   "id": "0858ae27",
   "metadata": {},
   "outputs": [
    {
     "name": "stdout",
     "output_type": "stream",
     "text": [
      "21\n"
     ]
    }
   ],
   "source": [
    "print(students[\"Dan\"][1])"
   ]
  },
  {
   "cell_type": "code",
   "execution_count": 5,
   "id": "2f816a94",
   "metadata": {},
   "outputs": [
    {
     "name": "stdout",
     "output_type": "stream",
     "text": [
      "[21, 'D']\n"
     ]
    }
   ],
   "source": [
    "#The above gives us Dan's age only, the below, by adding a : after the 1 gives, us anythign that appears after index 1.\n",
    "print(students[\"Dan\"][1:])"
   ]
  },
  {
   "cell_type": "code",
   "execution_count": 6,
   "id": "539c1156",
   "metadata": {},
   "outputs": [
    {
     "name": "stdout",
     "output_type": "stream",
     "text": [
      "21\n"
     ]
    }
   ],
   "source": [
    "#We will now convert this list into a dictionary, we change the square brackets to this{}\n",
    "#So here we are giving each key it's own dictionary as a value:\n",
    "students ={\n",
    "    \"Alice\":{\"id\":\"ID0001\",\"age\":26,\"grade\":\"A\"}, \n",
    "    \"Bob\":{\"id\":\"ID0002\",\"age\":27,\"grade\":\"B\"},\n",
    "    \"Claire\":{\"id\":\"ID0003\",\"age\":17,\"grade\":\"C\"},\n",
    "    \"Dan\":{\"id\":\"ID0004\",\"age\":21,\"grade\":\"D\"}, \n",
    "    \"Emma\":{\"id\":\"ID0005\",\"age\":22,\"grade\":\"E\"}\n",
    "    }\n",
    "#Without using indexing, we can simply add the word from the dictionary to print Dan's age:\n",
    "\n",
    "print(students[\"Dan\"][\"age\"])"
   ]
  },
  {
   "cell_type": "code",
   "execution_count": 10,
   "id": "b088c5de",
   "metadata": {},
   "outputs": [
    {
     "name": "stdout",
     "output_type": "stream",
     "text": [
      "ID0005 E\n"
     ]
    }
   ],
   "source": [
    "#Emma's ID and grade\n",
    "print(students[\"Emma\"][\"id\"], students[\"Emma\"][\"grade\"])"
   ]
  },
  {
   "cell_type": "code",
   "execution_count": null,
   "id": "106fed39",
   "metadata": {},
   "outputs": [],
   "source": [
    "#As you can see from the above, Python's dictionaries are really powerful and easy to use. \n"
   ]
  },
  {
   "cell_type": "code",
   "execution_count": null,
   "id": "813b3c05",
   "metadata": {},
   "outputs": [],
   "source": []
  }
 ],
 "metadata": {
  "kernelspec": {
   "display_name": "Python 3 (ipykernel)",
   "language": "python",
   "name": "python3"
  },
  "language_info": {
   "codemirror_mode": {
    "name": "ipython",
    "version": 3
   },
   "file_extension": ".py",
   "mimetype": "text/x-python",
   "name": "python",
   "nbconvert_exporter": "python",
   "pygments_lexer": "ipython3",
   "version": "3.9.12"
  }
 },
 "nbformat": 4,
 "nbformat_minor": 5
}
