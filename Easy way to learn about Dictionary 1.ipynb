{
 "cells": [
  {
   "cell_type": "code",
   "execution_count": 2,
   "id": "1403bc94",
   "metadata": {},
   "outputs": [
    {
     "data": {
      "text/plain": [
       "21"
      ]
     },
     "execution_count": 2,
     "metadata": {},
     "output_type": "execute_result"
    }
   ],
   "source": [
    "#A dictionary is similar to a real dictionary, where you look up a word and get the definition for that word. \n",
    "#Python dictionaries work in the same way, but just more powerful.\n",
    "#First you look up a key in the dictionary and then you get back a value. \n",
    "#Let's see this in the example below:\n",
    "#{} are used to create dictionaries.\n",
    "\n",
    "students = {}\n",
    "#Let's define the key and assign it a value\n",
    "#Here for our student example we will define a key as student names and the values will be student ages. \n",
    "students ={\"Alice\":25, \"Bob\":27, \"Claire\":17, \"Dan\":21, \"Emma\":22}\n",
    "\n",
    "#We now have a dictionary, set up with some items. Each item represents a student, each item has a key and a value.\n",
    "#We have items, keys and values.\n",
    "\n",
    "#How to look up a key? Simply type the name of the dictionary\n",
    "\n",
    "\n",
    "students[\"Dan\"]\n"
   ]
  },
  {
   "cell_type": "code",
   "execution_count": 3,
   "id": "70b981af",
   "metadata": {},
   "outputs": [
    {
     "data": {
      "text/plain": [
       "25"
      ]
     },
     "execution_count": 3,
     "metadata": {},
     "output_type": "execute_result"
    }
   ],
   "source": [
    "#When we type in Dan's name, it returns our value of 21.\n",
    "#What if we need to add to our dictionary? For example, we want to add in a missing student, we can do this as shown here:\n",
    "students[\"Fred\"] = 25\n",
    "students[\"Fred\"]"
   ]
  },
  {
   "cell_type": "code",
   "execution_count": 4,
   "id": "c149d635",
   "metadata": {},
   "outputs": [
    {
     "data": {
      "text/plain": [
       "25"
      ]
     },
     "execution_count": 4,
     "metadata": {},
     "output_type": "execute_result"
    }
   ],
   "source": [
    "#This gives us the value of Fred's age of 25. \n",
    "#What if we need to change some of our values, for example Alice's age? We just need to type:\n",
    "students[\"Alice\"]"
   ]
  },
  {
   "cell_type": "code",
   "execution_count": 5,
   "id": "c69a1346",
   "metadata": {},
   "outputs": [
    {
     "data": {
      "text/plain": [
       "26"
      ]
     },
     "execution_count": 5,
     "metadata": {},
     "output_type": "execute_result"
    }
   ],
   "source": [
    "students[\"Alice\"] = 26\n",
    "#This should now return the age of 26:\n",
    "students[\"Alice\"]"
   ]
  },
  {
   "cell_type": "code",
   "execution_count": 6,
   "id": "2d979fcf",
   "metadata": {},
   "outputs": [
    {
     "ename": "KeyError",
     "evalue": "'Fred'",
     "output_type": "error",
     "traceback": [
      "\u001b[1;31m---------------------------------------------------------------------------\u001b[0m",
      "\u001b[1;31mKeyError\u001b[0m                                  Traceback (most recent call last)",
      "Input \u001b[1;32mIn [6]\u001b[0m, in \u001b[0;36m<cell line: 4>\u001b[1;34m()\u001b[0m\n\u001b[0;32m      2\u001b[0m \u001b[38;5;28;01mdel\u001b[39;00m students[\u001b[38;5;124m\"\u001b[39m\u001b[38;5;124mFred\u001b[39m\u001b[38;5;124m\"\u001b[39m]\n\u001b[0;32m      3\u001b[0m \u001b[38;5;66;03m#This will now delete the key and the value, we will try to look up Fred:\u001b[39;00m\n\u001b[1;32m----> 4\u001b[0m \u001b[43mstudents\u001b[49m\u001b[43m[\u001b[49m\u001b[38;5;124;43m\"\u001b[39;49m\u001b[38;5;124;43mFred\u001b[39;49m\u001b[38;5;124;43m\"\u001b[39;49m\u001b[43m]\u001b[49m\n",
      "\u001b[1;31mKeyError\u001b[0m: 'Fred'"
     ]
    }
   ],
   "source": [
    "#How can we delete one of our students? Simple, just use the \"del\" keyword:\n",
    "del students[\"Fred\"]\n",
    "#This will now delete the key and the value, we will try to look up Fred:\n",
    "students[\"Fred\"]\n"
   ]
  },
  {
   "cell_type": "code",
   "execution_count": 8,
   "id": "9a1602e0",
   "metadata": {},
   "outputs": [
    {
     "data": {
      "text/plain": [
       "dict_keys(['Alice', 'Bob', 'Claire', 'Dan', 'Emma'])"
      ]
     },
     "execution_count": 8,
     "metadata": {},
     "output_type": "execute_result"
    }
   ],
   "source": [
    "#This returns a key error. Which says that the key of Fred cannot be found. \n",
    "#To return our updated dictionary, do this:\n",
    "students.keys()"
   ]
  },
  {
   "cell_type": "code",
   "execution_count": 9,
   "id": "e61148ca",
   "metadata": {},
   "outputs": [
    {
     "ename": "TypeError",
     "evalue": "'dict_keys' object is not subscriptable",
     "output_type": "error",
     "traceback": [
      "\u001b[1;31m---------------------------------------------------------------------------\u001b[0m",
      "\u001b[1;31mTypeError\u001b[0m                                 Traceback (most recent call last)",
      "Input \u001b[1;32mIn [9]\u001b[0m, in \u001b[0;36m<cell line: 2>\u001b[1;34m()\u001b[0m\n\u001b[0;32m      1\u001b[0m \u001b[38;5;66;03m#This now returns our updated dictionary. The dict_keys data type if iterable, but not indexable, as seen in the example below:\u001b[39;00m\n\u001b[1;32m----> 2\u001b[0m \u001b[43mstudents\u001b[49m\u001b[38;5;241;43m.\u001b[39;49m\u001b[43mkeys\u001b[49m\u001b[43m(\u001b[49m\u001b[43m)\u001b[49m\u001b[43m[\u001b[49m\u001b[38;5;241;43m0\u001b[39;49m\u001b[43m]\u001b[49m\n",
      "\u001b[1;31mTypeError\u001b[0m: 'dict_keys' object is not subscriptable"
     ]
    }
   ],
   "source": [
    "#This now returns our updated dictionary. The dict_keys data type if iterable, but not indexable, as seen in the example below:\n",
    "students.keys()[0]"
   ]
  },
  {
   "cell_type": "code",
   "execution_count": 11,
   "id": "0df04a3a",
   "metadata": {},
   "outputs": [],
   "source": [
    "#The way we can access certain indexes, is to turn this into a list instead:\n",
    "\n",
    "a = list(students.keys())"
   ]
  },
  {
   "cell_type": "code",
   "execution_count": 12,
   "id": "ac67357c",
   "metadata": {},
   "outputs": [
    {
     "data": {
      "text/plain": [
       "['Alice', 'Bob', 'Claire', 'Dan', 'Emma']"
      ]
     },
     "execution_count": 12,
     "metadata": {},
     "output_type": "execute_result"
    }
   ],
   "source": [
    "a"
   ]
  },
  {
   "cell_type": "code",
   "execution_count": 13,
   "id": "9265fc6e",
   "metadata": {},
   "outputs": [
    {
     "data": {
      "text/plain": [
       "'Alice'"
      ]
     },
     "execution_count": 13,
     "metadata": {},
     "output_type": "execute_result"
    }
   ],
   "source": [
    "a[0]"
   ]
  },
  {
   "cell_type": "code",
   "execution_count": 14,
   "id": "4dea478c",
   "metadata": {},
   "outputs": [
    {
     "data": {
      "text/plain": [
       "'Bob'"
      ]
     },
     "execution_count": 14,
     "metadata": {},
     "output_type": "execute_result"
    }
   ],
   "source": [
    "a[1]"
   ]
  },
  {
   "cell_type": "code",
   "execution_count": 15,
   "id": "6abff43d",
   "metadata": {},
   "outputs": [
    {
     "data": {
      "text/plain": [
       "'Claire'"
      ]
     },
     "execution_count": 15,
     "metadata": {},
     "output_type": "execute_result"
    }
   ],
   "source": [
    "a[2]"
   ]
  },
  {
   "cell_type": "code",
   "execution_count": 17,
   "id": "703f07fb",
   "metadata": {},
   "outputs": [
    {
     "data": {
      "text/plain": [
       "dict_values([26, 27, 17, 21, 22])"
      ]
     },
     "execution_count": 17,
     "metadata": {},
     "output_type": "execute_result"
    }
   ],
   "source": [
    "#We can also get the values on it's own, using dict_values\n",
    "students.values()"
   ]
  },
  {
   "cell_type": "code",
   "execution_count": 19,
   "id": "b88c8d58",
   "metadata": {},
   "outputs": [
    {
     "data": {
      "text/plain": [
       "[17, 21, 22]"
      ]
     },
     "execution_count": 19,
     "metadata": {},
     "output_type": "execute_result"
    }
   ],
   "source": [
    "#The above are very compatible with loops, e.g for loops. \n",
    "list(students.values())[2:]"
   ]
  },
  {
   "cell_type": "code",
   "execution_count": 20,
   "id": "b7407089",
   "metadata": {},
   "outputs": [
    {
     "name": "stdout",
     "output_type": "stream",
     "text": [
      "{'Alice': 26, 'Bob': 27, 'Claire': 17, 'Dan': 21, 'Emma': 22}\n"
     ]
    }
   ],
   "source": [
    "#The above shows slices of the values. \n",
    "#So we have learnt that dictionaries have limitations but we can always convert it into a list. \n",
    "#An important thing to note here, is that a dictionary, unlike tuples / list, does not have an order, \n",
    "#the only way to access an item, is to use it's key. \n",
    "print(students)\n"
   ]
  },
  {
   "cell_type": "code",
   "execution_count": null,
   "id": "1266834c",
   "metadata": {},
   "outputs": [],
   "source": [
    "#Recap: \n",
    "#We learnt that a python dictionary, works just like a real life dictionary, in that you first look up a key, just \n",
    "#like you would look up a word and then you get back some information. \n",
    "#Each key value pair is called an item. \n",
    "#We then created a dictionary of students, each of the key was the students name and the value was the age. \n",
    "#We learnt how to look up a key in the dictionary using [] syntax. \n",
    "#We also added a new student called Fred to the dictionary. \n",
    "#We also learnt how to delete from a dictionary and assign new values. \n"
   ]
  }
 ],
 "metadata": {
  "kernelspec": {
   "display_name": "Python 3 (ipykernel)",
   "language": "python",
   "name": "python3"
  },
  "language_info": {
   "codemirror_mode": {
    "name": "ipython",
    "version": 3
   },
   "file_extension": ".py",
   "mimetype": "text/x-python",
   "name": "python",
   "nbconvert_exporter": "python",
   "pygments_lexer": "ipython3",
   "version": "3.9.12"
  }
 },
 "nbformat": 4,
 "nbformat_minor": 5
}
