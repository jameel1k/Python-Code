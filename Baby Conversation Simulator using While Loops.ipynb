{
 "cells": [
  {
   "cell_type": "code",
   "execution_count": 1,
   "id": "40dc94f6",
   "metadata": {},
   "outputs": [
    {
     "name": "stdout",
     "output_type": "stream",
     "text": [
      "Why is the sky blue?: When it is day time, the sky is blue. \n",
      "why?: wavelengths\n",
      "why?: just because\n"
     ]
    }
   ],
   "source": [
    "answer = input(\"Why is the sky blue?: \").strip().lower()\n",
    "    \n",
    "while answer!=\"just because\":\n",
    "    answer = input (\"why?: \").strip().lower()\n"
   ]
  },
  {
   "cell_type": "code",
   "execution_count": null,
   "id": "5a5113e5",
   "metadata": {},
   "outputs": [],
   "source": [
    "from random import choice\n",
    "\n",
    "questions = [\"Why is the sky blue?\",\"Why is there a face on the moon?\", \"where are all the dinosaurs?\"]\n",
    "\n",
    "question = choice(questions)\n",
    "answer = input(question).strip().lower()\n",
    "    \n",
    "while answer!=\"just because\":\n",
    "    answer = input (\"why?: \").strip().lower()\n"
   ]
  },
  {
   "cell_type": "code",
   "execution_count": 3,
   "id": "e7b97cb6",
   "metadata": {},
   "outputs": [
    {
     "name": "stdout",
     "output_type": "stream",
     "text": [
      "where are all the dinosaurs?They became extinct due to an asteroid hitting earth.\n",
      "why?: just because\n"
     ]
    }
   ],
   "source": [
    "from random import choice\n",
    "\n",
    "questions = [\"Why is the sky blue?\",\"Why is there a face on the moon?\", \"where are all the dinosaurs?\"]\n",
    "\n",
    "question = choice(questions)\n",
    "answer = input(question).strip().lower()\n",
    "    \n",
    "while answer!=\"just because\":\n",
    "    answer = input (\"why?: \").strip().lower()"
   ]
  },
  {
   "cell_type": "code",
   "execution_count": 4,
   "id": "97cddcf0",
   "metadata": {},
   "outputs": [
    {
     "name": "stdout",
     "output_type": "stream",
     "text": [
      "Why is there a face on the moon?: Because the moon is always watching you and follows you everywhere you go\n",
      "why?: Because you just seen images in the things you see. \n",
      "why?: It's how your brain makes sense of it. \n",
      "why?: just because\n"
     ]
    }
   ],
   "source": [
    "from random import choice\n",
    "\n",
    "questions = [\"Why is the sky blue?: \",\"Why is there a face on the moon?: \", \"where are all the dinosaurs?: \"]\n",
    "\n",
    "question = choice(questions)\n",
    "answer = input(question).strip().lower()\n",
    "    \n",
    "while answer!=\"just because\":\n",
    "    answer = input (\"why?: \").strip().lower()"
   ]
  },
  {
   "cell_type": "code",
   "execution_count": 5,
   "id": "74cc9653",
   "metadata": {},
   "outputs": [
    {
     "name": "stdout",
     "output_type": "stream",
     "text": [
      "Oh...Ok\n"
     ]
    }
   ],
   "source": [
    "print(\"Oh...Ok\")"
   ]
  },
  {
   "cell_type": "code",
   "execution_count": 6,
   "id": "2bd059b8",
   "metadata": {},
   "outputs": [
    {
     "name": "stdout",
     "output_type": "stream",
     "text": [
      "where are all the dinosaurs?: They were hit by an asteroid.\n",
      "why?: They became extinct.\n",
      "why?: just because\n",
      "Oh...Ok\n"
     ]
    }
   ],
   "source": [
    "from random import choice\n",
    "\n",
    "questions = [\"Why is the sky blue?: \",\"Why is there a face on the moon?: \", \"where are all the dinosaurs?: \"]\n",
    "\n",
    "question = choice(questions)\n",
    "answer = input(question).strip().lower()\n",
    "    \n",
    "while answer!=\"just because\":\n",
    "    answer = input (\"why?: \").strip().lower()\n",
    "print(\"Oh...Ok\")"
   ]
  },
  {
   "cell_type": "code",
   "execution_count": null,
   "id": "6d7f98e2",
   "metadata": {},
   "outputs": [],
   "source": []
  }
 ],
 "metadata": {
  "kernelspec": {
   "display_name": "Python 3 (ipykernel)",
   "language": "python",
   "name": "python3"
  },
  "language_info": {
   "codemirror_mode": {
    "name": "ipython",
    "version": 3
   },
   "file_extension": ".py",
   "mimetype": "text/x-python",
   "name": "python",
   "nbconvert_exporter": "python",
   "pygments_lexer": "ipython3",
   "version": "3.9.12"
  }
 },
 "nbformat": 4,
 "nbformat_minor": 5
}
